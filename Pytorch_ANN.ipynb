{
 "cells": [
  {
   "cell_type": "code",
   "execution_count": 6,
   "metadata": {},
   "outputs": [],
   "source": [
    "import torch\n",
    "import torch.nn as nn\n",
    "import torch.nn.functional as F\n",
    "\n",
    "class Model(nn.Module):\n",
    " \n",
    " def __init__(self, in_features= 4, h1= 8, h2= 9, out_features= 3):\n",
    "  #how many layers?\n",
    "  #input Layer (4 features) ---> h1 N ---> h2 N ---> Output Layer (3 classes)\n",
    "  super().__init__()\n",
    "  self.fc1= nn.Linear(in_features, h1)\n",
    "  self.fc2= nn.Linear(h1, h2)\n",
    "  self.out= nn.Linear(h2, out_features)\n",
    "\n",
    " def forward(self, x):\n",
    "  x = F.relu(self.fc1(x))\n",
    "  x = F.relu(self.fc2(x))\n",
    "  x = F.relu(self.out(x))\n",
    "  \n",
    "  return x\n",
    "  "
   ]
  },
  {
   "cell_type": "code",
   "execution_count": 7,
   "metadata": {},
   "outputs": [],
   "source": [
    "import pandas as pd\n",
    "import numpy as np\n",
    "import matplotlib.pyplot as plt\n",
    "from sklearn.model_selection import train_test_split\n",
    "import os\n",
    "\n",
    "#access the environment variable\n",
    "path = os.environ.get('PATH')\n",
    "\n",
    "#read data as pandas dataframe\n",
    "df= pd.read_csv(path)\n",
    "\n",
    "#instantiate a seed for reproducibility & the ANN\n",
    "torch.manual_seed(33)\n",
    "model= Model()\n",
    "\n",
    "#create features & target variables \n",
    "X= df.drop('target',axis=1).values\n",
    "y= df['target'].values\n",
    "\n",
    "#split data into training and test set\n",
    "X_train, X_test, y_train, y_test= train_test_split(X, y, test_size= 0.2, random_state=33)\n",
    "\n",
    "#convert train & test sets to torch tensors\n",
    "X_train= torch.FloatTensor(X_train)\n",
    "X_test= torch.FloatTensor(X_test)\n",
    "\n",
    "y_train= torch.LongTensor(y_train)\n",
    "y_test= torch.LongTensor(y_test)\n"
   ]
  },
  {
   "cell_type": "code",
   "execution_count": 8,
   "metadata": {},
   "outputs": [
    {
     "name": "stdout",
     "output_type": "stream",
     "text": [
      "Epoch: 0 and loss is: 1.1880278587341309\n",
      "Epoch: 10 and loss is: 1.1817314624786377\n",
      "Epoch: 20 and loss is: 1.17567777633667\n",
      "Epoch: 30 and loss is: 1.1698613166809082\n",
      "Epoch: 40 and loss is: 1.1642731428146362\n",
      "Epoch: 50 and loss is: 1.1589192152023315\n",
      "Epoch: 60 and loss is: 1.1537964344024658\n",
      "Epoch: 70 and loss is: 1.1488996744155884\n",
      "Epoch: 80 and loss is: 1.1442302465438843\n",
      "Epoch: 90 and loss is: 1.1397795677185059\n"
     ]
    }
   ],
   "source": [
    "#set function to calculate loss\n",
    "criterion= nn.CrossEntropyLoss()\n",
    "#set adam as the optimiser\n",
    "optimizer= torch.optim.Adam(model.parameters(),lr=0.001)\n",
    "\n",
    "epochs= 100\n",
    "losses= []\n",
    "\n",
    "for epoch in range(epochs):\n",
    " \n",
    " #forward and get a prediction\n",
    " y_pred= model.forward(X_train)\n",
    " \n",
    " #calculate loss/error\n",
    " loss= criterion(y_pred, y_train)\n",
    " \n",
    " losses.append(loss)\n",
    " \n",
    " #print out epoch & loss\n",
    " if epoch % 10 == 0:\n",
    "  print(f'Epoch: {epoch} and loss is: {loss}')\n",
    "  \n",
    "  #backpropagation\n",
    "  optimizer.zero_grad()\n",
    "  loss.backward()\n",
    "  optimizer.step()\n",
    "  \n",
    "  "
   ]
  },
  {
   "cell_type": "code",
   "execution_count": 9,
   "metadata": {},
   "outputs": [
    {
     "data": {
      "text/plain": [
       "Text(0.5, 0, 'Epochs')"
      ]
     },
     "execution_count": 9,
     "metadata": {},
     "output_type": "execute_result"
    },
    {
     "data": {
      "image/png": "[encoded data removed]",
      "text/plain": [
       "<Figure size 640x480 with 1 Axes>"
      ]
     },
     "metadata": {},
     "output_type": "display_data"
    }
   ],
   "source": [
    "#plot loss\n",
    "losses=[tensor.detach().numpy() for tensor in losses]\n",
    "plt.plot(range(epochs),losses)\n",
    "plt.ylabel('LOSS')\n",
    "plt.xlabel('Epochs')"
   ]
  }
 ],
 "metadata": {
  "kernelspec": {
   "display_name": "pytorch_env",
   "language": "python",
   "name": "python3"
  },
  "language_info": {
   "codemirror_mode": {
    "name": "ipython",
    "version": 3
   },
   "file_extension": ".py",
   "mimetype": "text/x-python",
   "name": "python",
   "nbconvert_exporter": "python",
   "pygments_lexer": "ipython3",
   "version": "3.11.0"
  }
 },
 "nbformat": 4,
 "nbformat_minor": 2
}
